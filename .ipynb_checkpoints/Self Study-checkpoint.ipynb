{
 "cells": [
  {
   "cell_type": "code",
   "execution_count": 1,
   "id": "ee7d6287",
   "metadata": {},
   "outputs": [],
   "source": [
    "import numpy as np"
   ]
  },
  {
   "cell_type": "code",
   "execution_count": 2,
   "id": "8df3524e",
   "metadata": {},
   "outputs": [],
   "source": [
    "import time"
   ]
  },
  {
   "cell_type": "code",
   "execution_count": 6,
   "id": "ad248b97",
   "metadata": {},
   "outputs": [
    {
     "data": {
      "text/plain": [
       "53.28612266313793"
      ]
     },
     "execution_count": 6,
     "metadata": {},
     "output_type": "execute_result"
    }
   ],
   "source": [
    "time.time()/60/60/24/365 #how many years from 1970"
   ]
  },
  {
   "cell_type": "code",
   "execution_count": 31,
   "id": "3e458135",
   "metadata": {},
   "outputs": [
    {
     "name": "stdout",
     "output_type": "stream",
     "text": [
      "2.7414138317108154\n"
     ]
    }
   ],
   "source": [
    "size = 10000000\n",
    "l1 = range(size)\n",
    "l2 = range(size)\n",
    "\n",
    "result= []\n",
    "start_time = time.time()\n",
    "for x,y in zip(l1,l2):\n",
    "    result.append(x+y)\n",
    "    \n",
    "end_time = time.time()\n",
    "\n",
    "print(end_time - start_time)"
   ]
  },
  {
   "cell_type": "code",
   "execution_count": 24,
   "id": "6fc95aad",
   "metadata": {},
   "outputs": [
    {
     "name": "stdout",
     "output_type": "stream",
     "text": [
      "0.08595442771911621\n"
     ]
    }
   ],
   "source": [
    "start_time = time.time()\n",
    "size = 10000000\n",
    "a1 = np.arange(size)\n",
    "a2 = np.arange(size)\n",
    "\n",
    "result = a1 +a2\n",
    "end_time = time.time()\n",
    "\n",
    "print(end_time - start_time)"
   ]
  },
  {
   "cell_type": "code",
   "execution_count": 32,
   "id": "dce61bc5",
   "metadata": {},
   "outputs": [
    {
     "data": {
      "text/plain": [
       "[5, 7, 9, 11]"
      ]
     },
     "execution_count": 32,
     "metadata": {},
     "output_type": "execute_result"
    }
   ],
   "source": [
    "a = [1,2,3,4]\n",
    "b = [4,5,6,7]\n",
    "result = []\n",
    "for i in range(len(a)):\n",
    "    result.append(a[i] + b[i])\n",
    "result\n"
   ]
  },
  {
   "cell_type": "code",
   "execution_count": 34,
   "id": "513905ab",
   "metadata": {},
   "outputs": [
    {
     "name": "stdout",
     "output_type": "stream",
     "text": [
      "[1 2 3 4]\n",
      "[4 5 6 7]\n"
     ]
    }
   ],
   "source": [
    "a1 = np.array(a)\n",
    "b1 = np.array(b)\n",
    "print(a1)\n",
    "print(b1)"
   ]
  },
  {
   "cell_type": "code",
   "execution_count": 35,
   "id": "f1c82af5",
   "metadata": {},
   "outputs": [
    {
     "data": {
      "text/plain": [
       "array([ 4, 10, 18, 28])"
      ]
     },
     "execution_count": 35,
     "metadata": {},
     "output_type": "execute_result"
    }
   ],
   "source": [
    "a1 * b1"
   ]
  },
  {
   "cell_type": "code",
   "execution_count": 36,
   "id": "db9b1456",
   "metadata": {},
   "outputs": [
    {
     "data": {
      "text/plain": [
       "array([0.25      , 0.4       , 0.5       , 0.57142857])"
      ]
     },
     "execution_count": 36,
     "metadata": {},
     "output_type": "execute_result"
    }
   ],
   "source": [
    "a1 / b1"
   ]
  },
  {
   "cell_type": "code",
   "execution_count": 39,
   "id": "d362b3a3",
   "metadata": {},
   "outputs": [
    {
     "data": {
      "text/plain": [
       "array([[ 1,  2,  3],\n",
       "       [ 4,  5,  6],\n",
       "       [ 7,  8,  9],\n",
       "       [10, 11, 12]])"
      ]
     },
     "execution_count": 39,
     "metadata": {},
     "output_type": "execute_result"
    }
   ],
   "source": [
    "my_list2 = [[1,2,3], [4,5,6], [7,8,9], [10,11,12]]\n",
    "myarray = np.array(my_list2)\n",
    "myarray"
   ]
  },
  {
   "cell_type": "code",
   "execution_count": 41,
   "id": "d5283cd0",
   "metadata": {},
   "outputs": [
    {
     "data": {
      "text/plain": [
       "array([[ 1,  2],\n",
       "       [ 3,  4],\n",
       "       [ 5,  6],\n",
       "       [ 7,  8],\n",
       "       [ 9, 10],\n",
       "       [11, 12]])"
      ]
     },
     "execution_count": 41,
     "metadata": {},
     "output_type": "execute_result"
    }
   ],
   "source": [
    "myarray.reshape(6,2)"
   ]
  },
  {
   "cell_type": "code",
   "execution_count": null,
   "id": "c5a1f310",
   "metadata": {},
   "outputs": [],
   "source": [
    "np.resize(myarray,(5,3))"
   ]
  },
  {
   "cell_type": "code",
   "execution_count": 42,
   "id": "b2e85bfc",
   "metadata": {},
   "outputs": [
    {
     "data": {
      "text/plain": [
       "array([[ 1,  2],\n",
       "       [ 3,  4],\n",
       "       [ 5,  6],\n",
       "       [ 7,  8],\n",
       "       [ 9, 10],\n",
       "       [11, 12]])"
      ]
     },
     "execution_count": 42,
     "metadata": {},
     "output_type": "execute_result"
    }
   ],
   "source": [
    "myarray.reshape(-1,2)"
   ]
  },
  {
   "cell_type": "code",
   "execution_count": 43,
   "id": "5264093a",
   "metadata": {},
   "outputs": [
    {
     "data": {
      "text/plain": [
       "array([[ 1,  2,  3,  4],\n",
       "       [ 5,  6,  7,  8],\n",
       "       [ 9, 10, 11, 12]])"
      ]
     },
     "execution_count": 43,
     "metadata": {},
     "output_type": "execute_result"
    }
   ],
   "source": [
    "myarray.reshape(3,-1)"
   ]
  },
  {
   "cell_type": "code",
   "execution_count": null,
   "id": "9bd5f54a",
   "metadata": {},
   "outputs": [],
   "source": []
  }
 ],
 "metadata": {
  "kernelspec": {
   "display_name": "Python 3 (ipykernel)",
   "language": "python",
   "name": "python3"
  },
  "language_info": {
   "codemirror_mode": {
    "name": "ipython",
    "version": 3
   },
   "file_extension": ".py",
   "mimetype": "text/x-python",
   "name": "python",
   "nbconvert_exporter": "python",
   "pygments_lexer": "ipython3",
   "version": "3.10.9"
  },
  "varInspector": {
   "cols": {
    "lenName": 16,
    "lenType": 16,
    "lenVar": 40
   },
   "kernels_config": {
    "python": {
     "delete_cmd_postfix": "",
     "delete_cmd_prefix": "del ",
     "library": "var_list.py",
     "varRefreshCmd": "print(var_dic_list())"
    },
    "r": {
     "delete_cmd_postfix": ") ",
     "delete_cmd_prefix": "rm(",
     "library": "var_list.r",
     "varRefreshCmd": "cat(var_dic_list()) "
    }
   },
   "types_to_exclude": [
    "module",
    "function",
    "builtin_function_or_method",
    "instance",
    "_Feature"
   ],
   "window_display": false
  }
 },
 "nbformat": 4,
 "nbformat_minor": 5
}
