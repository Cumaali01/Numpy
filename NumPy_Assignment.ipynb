{
 "cells": [
  {
   "cell_type": "markdown",
   "id": "95f61b17-f2e4-41cb-9318-8154c4cfba00",
   "metadata": {},
   "source": [
    "# NumPy Assignment"
   ]
  },
  {
   "cell_type": "markdown",
   "id": "0b956e8b-c012-4b7d-9fe1-be68fe668606",
   "metadata": {},
   "source": [
    "## Import the numpy package under the name as np & print the numpy version"
   ]
  },
  {
   "cell_type": "code",
   "execution_count": 7,
   "id": "668e8221",
   "metadata": {},
   "outputs": [
    {
     "data": {
      "text/plain": [
       "'1.23.5'"
      ]
     },
     "execution_count": 7,
     "metadata": {},
     "output_type": "execute_result"
    }
   ],
   "source": [
    "# pip install numpy\n",
    "import numpy as np\n",
    "np.__version__"
   ]
  },
  {
   "cell_type": "markdown",
   "id": "8c171220-e212-4057-ad4c-e809ba8961fd",
   "metadata": {},
   "source": [
    "## Create a null vector of size 10"
   ]
  },
  {
   "cell_type": "code",
   "execution_count": 112,
   "id": "107c7c3b",
   "metadata": {},
   "outputs": [
    {
     "data": {
      "text/plain": [
       "array([0, 0, 0, 0, 0, 0, 0, 0, 0, 0], dtype=int32)"
      ]
     },
     "execution_count": 112,
     "metadata": {},
     "output_type": "execute_result"
    }
   ],
   "source": [
    "arr = np.zeros(10, dtype=\"i\")\n",
    "arr"
   ]
  },
  {
   "cell_type": "markdown",
   "id": "2891b252-a1db-4ab4-a164-47c9cce9a271",
   "metadata": {},
   "source": [
    "## Create a null vector of size 10 but the fifth value which is 1"
   ]
  },
  {
   "cell_type": "code",
   "execution_count": 113,
   "id": "51e58682",
   "metadata": {},
   "outputs": [
    {
     "data": {
      "text/plain": [
       "array([0, 0, 0, 0, 1, 0, 0, 0, 0, 0])"
      ]
     },
     "execution_count": 113,
     "metadata": {},
     "output_type": "execute_result"
    }
   ],
   "source": [
    "arr1 = np.zeros(10, dtype=int)\n",
    "arr1[4] =1\n",
    "arr1"
   ]
  },
  {
   "cell_type": "markdown",
   "id": "491e5318-b216-48d8-8f35-82cd66594408",
   "metadata": {},
   "source": [
    "## Create a vector with values ranging from 10 to 49"
   ]
  },
  {
   "cell_type": "code",
   "execution_count": 10,
   "id": "36253df9",
   "metadata": {},
   "outputs": [
    {
     "data": {
      "text/plain": [
       "array([10, 11, 12, 13, 14, 15, 16, 17, 18, 19, 20, 21, 22, 23, 24, 25, 26,\n",
       "       27, 28, 29, 30, 31, 32, 33, 34, 35, 36, 37, 38, 39, 40, 41, 42, 43,\n",
       "       44, 45, 46, 47, 48, 49])"
      ]
     },
     "execution_count": 10,
     "metadata": {},
     "output_type": "execute_result"
    }
   ],
   "source": [
    "arr2 = np.arange(10,50)\n",
    "arr2"
   ]
  },
  {
   "cell_type": "markdown",
   "id": "b7818669-03a5-4f61-b08f-b85b8dd94372",
   "metadata": {},
   "source": [
    "## Reverse a vector (first element becomes last)"
   ]
  },
  {
   "cell_type": "code",
   "execution_count": 11,
   "id": "027a4256",
   "metadata": {},
   "outputs": [
    {
     "data": {
      "text/plain": [
       "array([49, 48, 47, 46, 45, 44, 43, 42, 41, 40, 39, 38, 37, 36, 35, 34, 33,\n",
       "       32, 31, 30, 29, 28, 27, 26, 25, 24, 23, 22, 21, 20, 19, 18, 17, 16,\n",
       "       15, 14, 13, 12, 11, 10])"
      ]
     },
     "execution_count": 11,
     "metadata": {},
     "output_type": "execute_result"
    }
   ],
   "source": [
    "arr2[::-1]"
   ]
  },
  {
   "cell_type": "markdown",
   "id": "5f4a94e4-596a-4c85-8356-7eb86d6cacbe",
   "metadata": {},
   "source": [
    "## Create a 3x3 matrix with values ranging from 0 to 8"
   ]
  },
  {
   "cell_type": "code",
   "execution_count": 12,
   "id": "6bc73f48",
   "metadata": {},
   "outputs": [
    {
     "data": {
      "text/plain": [
       "array([[0, 1, 2],\n",
       "       [3, 4, 5],\n",
       "       [6, 7, 8]])"
      ]
     },
     "execution_count": 12,
     "metadata": {},
     "output_type": "execute_result"
    }
   ],
   "source": [
    "arr3 = np.arange(0,9).reshape(3,3)\n",
    "arr3"
   ]
  },
  {
   "cell_type": "markdown",
   "id": "0df95fd1-f316-4976-849b-756f927f382c",
   "metadata": {},
   "source": [
    "## Find indices of non­zero elements from [1,2,0,0,4,0]"
   ]
  },
  {
   "cell_type": "code",
   "execution_count": 28,
   "id": "95edf755",
   "metadata": {},
   "outputs": [
    {
     "data": {
      "text/plain": [
       "(array([0, 1, 4], dtype=int64),)"
      ]
     },
     "execution_count": 28,
     "metadata": {},
     "output_type": "execute_result"
    }
   ],
   "source": [
    "a=[1,2,0,0,4,0]\n",
    "arr4 = np.array(a)\n",
    "arr4.nonzero()"
   ]
  },
  {
   "cell_type": "code",
   "execution_count": null,
   "id": "06349ffc",
   "metadata": {},
   "outputs": [],
   "source": [
    "döngü ile bulunacak"
   ]
  },
  {
   "cell_type": "code",
   "execution_count": 114,
   "id": "cee7bba1",
   "metadata": {},
   "outputs": [
    {
     "data": {
      "text/plain": [
       "array([ True,  True, False, False,  True, False])"
      ]
     },
     "execution_count": 114,
     "metadata": {},
     "output_type": "execute_result"
    }
   ],
   "source": [
    "bool_arr = arr4 >0\n",
    "bool_arr"
   ]
  },
  {
   "cell_type": "code",
   "execution_count": 115,
   "id": "601bc5c8",
   "metadata": {},
   "outputs": [
    {
     "data": {
      "text/plain": [
       "array([1, 2, 4])"
      ]
     },
     "execution_count": 115,
     "metadata": {},
     "output_type": "execute_result"
    }
   ],
   "source": [
    "arr4[bool_arr]"
   ]
  },
  {
   "cell_type": "markdown",
   "id": "efc45ac3-9297-4ea0-9fd8-8534c46935e4",
   "metadata": {},
   "source": [
    "## Create a 3x3 identity matrix\n",
    "Identity matrix, kare matrisler için özel bir türdür. Diagonalindeki tüm elemanlar 1, diğer elemanlar ise 0 olan kare matrisdir."
   ]
  },
  {
   "cell_type": "code",
   "execution_count": 17,
   "id": "bb3b3ade",
   "metadata": {},
   "outputs": [
    {
     "data": {
      "text/plain": [
       "array([[1., 0., 0.],\n",
       "       [0., 1., 0.],\n",
       "       [0., 0., 1.]])"
      ]
     },
     "execution_count": 17,
     "metadata": {},
     "output_type": "execute_result"
    }
   ],
   "source": [
    "np.identity(3)"
   ]
  },
  {
   "cell_type": "code",
   "execution_count": 116,
   "id": "05d71e39",
   "metadata": {},
   "outputs": [
    {
     "data": {
      "text/plain": [
       "array([[1, 0, 0],\n",
       "       [0, 1, 0],\n",
       "       [0, 0, 1]])"
      ]
     },
     "execution_count": 116,
     "metadata": {},
     "output_type": "execute_result"
    }
   ],
   "source": [
    "np.eye(3, dtype=int)"
   ]
  },
  {
   "cell_type": "code",
   "execution_count": null,
   "id": "912d844f",
   "metadata": {},
   "outputs": [],
   "source": []
  },
  {
   "cell_type": "markdown",
   "id": "aa19488a-0613-48f3-8604-4499afe134e8",
   "metadata": {},
   "source": [
    "## Create a 3x3x3 array with random values"
   ]
  },
  {
   "cell_type": "code",
   "execution_count": 119,
   "id": "0465ead9",
   "metadata": {
    "scrolled": true
   },
   "outputs": [
    {
     "data": {
      "text/plain": [
       "array([[[0.43758657, 0.41081651, 0.85534514],\n",
       "        [0.18491922, 0.12792329, 0.51034276],\n",
       "        [0.58190487, 0.73632214, 0.38341563]],\n",
       "\n",
       "       [[0.24589938, 0.71654166, 0.61771787],\n",
       "        [0.62935328, 0.94253137, 0.16764507],\n",
       "        [0.91258098, 0.8076994 , 0.36698043]],\n",
       "\n",
       "       [[0.29928863, 0.03392599, 0.7511682 ],\n",
       "        [0.76434488, 0.37730135, 0.88962183],\n",
       "        [0.11827113, 0.97773791, 0.34574645]]])"
      ]
     },
     "execution_count": 119,
     "metadata": {},
     "output_type": "execute_result"
    }
   ],
   "source": [
    "rand1 = np.random.random((3,3,3))\n",
    "rand1\n"
   ]
  },
  {
   "cell_type": "code",
   "execution_count": 280,
   "id": "040f5ab1",
   "metadata": {},
   "outputs": [
    {
     "data": {
      "text/plain": [
       "0.3457464455412629"
      ]
     },
     "execution_count": 280,
     "metadata": {},
     "output_type": "execute_result"
    }
   ],
   "source": [
    "#last element found\n",
    "rand1[-1][-1][-1]"
   ]
  },
  {
   "cell_type": "code",
   "execution_count": 122,
   "id": "af375e0b",
   "metadata": {},
   "outputs": [
    {
     "data": {
      "text/plain": [
       "array([[[4, 7, 5],\n",
       "        [6, 8, 5],\n",
       "        [6, 3, 8]],\n",
       "\n",
       "       [[6, 2, 9],\n",
       "        [1, 6, 1],\n",
       "        [6, 9, 4]],\n",
       "\n",
       "       [[9, 7, 2],\n",
       "        [9, 9, 1],\n",
       "        [1, 1, 3]]])"
      ]
     },
     "execution_count": 122,
     "metadata": {},
     "output_type": "execute_result"
    }
   ],
   "source": [
    "np.random.randint(1,10,27).reshape(3,3,3)"
   ]
  },
  {
   "cell_type": "markdown",
   "id": "456bd772-149a-410a-9c86-04f1b19c6ae1",
   "metadata": {},
   "source": [
    "## Create a 10x10 array with random values and find the minimum and maximum values"
   ]
  },
  {
   "cell_type": "code",
   "execution_count": 125,
   "id": "ec01322d",
   "metadata": {},
   "outputs": [
    {
     "data": {
      "text/plain": [
       "array([[51, 81, 63, 59, 49, 54, 20,  1, 76, 10],\n",
       "       [94, 79, 13, 32, 48, 85, 44, 42, 58, 41],\n",
       "       [62, 27, 45, 35, 87, 81,  5, 66, 37, 72],\n",
       "       [28, 96, 81, 83, 79, 88, 18, 88, 69, 47],\n",
       "       [86, 99, 19, 72, 64, 17, 30, 70, 29, 61],\n",
       "       [44, 26, 85, 86, 19, 41, 78, 51, 70, 39],\n",
       "       [21, 80, 36, 51,  8, 56, 93, 22, 64, 56],\n",
       "       [67, 69, 12, 59, 46, 98, 91, 16,  3, 97],\n",
       "       [29, 68, 23, 12, 22, 61, 38, 44, 35, 90],\n",
       "       [15, 79,  1, 26, 88, 84, 75, 31, 88, 72]])"
      ]
     },
     "execution_count": 125,
     "metadata": {},
     "output_type": "execute_result"
    }
   ],
   "source": [
    "arr6 = np.random.randint(0,100,100).reshape(10,10)\n",
    "arr6"
   ]
  },
  {
   "cell_type": "code",
   "execution_count": 126,
   "id": "e42712bb",
   "metadata": {},
   "outputs": [
    {
     "data": {
      "text/plain": [
       "99"
      ]
     },
     "execution_count": 126,
     "metadata": {},
     "output_type": "execute_result"
    }
   ],
   "source": [
    "arr6.max()"
   ]
  },
  {
   "cell_type": "code",
   "execution_count": 127,
   "id": "e70731ad",
   "metadata": {},
   "outputs": [
    {
     "data": {
      "text/plain": [
       "1"
      ]
     },
     "execution_count": 127,
     "metadata": {},
     "output_type": "execute_result"
    }
   ],
   "source": [
    "arr6.min()"
   ]
  },
  {
   "cell_type": "markdown",
   "id": "8cbf0c5f-e2dd-4418-b923-a52bbda70b7e",
   "metadata": {},
   "source": [
    "## Create a random vector of size 30 and find the mean value"
   ]
  },
  {
   "cell_type": "code",
   "execution_count": 128,
   "id": "625f82b7",
   "metadata": {},
   "outputs": [
    {
     "data": {
      "text/plain": [
       "array([24, 11, 36,  3, 26, 21, 45, 13, 43, 16, 21, 13, 27, 14, 46, 21, 15,\n",
       "       22, 31, 18, 47, 30, 43, 30, 21, 47, 14, 19,  5, 10])"
      ]
     },
     "execution_count": 128,
     "metadata": {},
     "output_type": "execute_result"
    }
   ],
   "source": [
    "rand2 = np.random.randint(1,50,30)\n",
    "rand2"
   ]
  },
  {
   "cell_type": "code",
   "execution_count": 129,
   "id": "5ec08de9",
   "metadata": {},
   "outputs": [
    {
     "data": {
      "text/plain": [
       "24.4"
      ]
     },
     "execution_count": 129,
     "metadata": {},
     "output_type": "execute_result"
    }
   ],
   "source": [
    "rand2.mean()"
   ]
  },
  {
   "cell_type": "markdown",
   "id": "7cc5ba2a-7b21-4c76-9d9c-cd84ecb98875",
   "metadata": {},
   "source": [
    "## Create a 2d array with 1 on the border and 0 inside"
   ]
  },
  {
   "cell_type": "code",
   "execution_count": 130,
   "id": "4e984821",
   "metadata": {},
   "outputs": [
    {
     "data": {
      "text/plain": [
       "array([[1, 1, 1, 1, 1, 1],\n",
       "       [1, 1, 1, 1, 1, 1],\n",
       "       [1, 1, 1, 1, 1, 1],\n",
       "       [1, 1, 1, 1, 1, 1],\n",
       "       [1, 1, 1, 1, 1, 1],\n",
       "       [1, 1, 1, 1, 1, 1]], dtype=int32)"
      ]
     },
     "execution_count": 130,
     "metadata": {},
     "output_type": "execute_result"
    }
   ],
   "source": [
    "arr7 = np.ones((6,6), dtype=\"i\")\n",
    "arr7"
   ]
  },
  {
   "cell_type": "code",
   "execution_count": 62,
   "id": "757b5176",
   "metadata": {
    "scrolled": true
   },
   "outputs": [
    {
     "data": {
      "text/plain": [
       "array([[1., 1., 1., 1., 1., 1.],\n",
       "       [1., 0., 0., 0., 0., 1.],\n",
       "       [1., 0., 0., 0., 0., 1.],\n",
       "       [1., 0., 0., 0., 0., 1.],\n",
       "       [1., 0., 0., 0., 0., 1.],\n",
       "       [1., 1., 1., 1., 1., 1.]])"
      ]
     },
     "execution_count": 62,
     "metadata": {},
     "output_type": "execute_result"
    }
   ],
   "source": [
    "arr7[1:-1,1:-1] =0\n",
    "arr7"
   ]
  },
  {
   "cell_type": "code",
   "execution_count": 68,
   "id": "d01e0fe1",
   "metadata": {
    "scrolled": true
   },
   "outputs": [
    {
     "data": {
      "text/plain": [
       "array([ 0,  1,  2,  3,  4,  5,  6,  7,  8,  9, 10, 11, 12, 13, 14, 15, 16,\n",
       "       17, 18, 19, 20, 21, 22, 23, 24, 25, 26, 27, 28, 29, 30, 31, 32, 33,\n",
       "       34, 35, 36, 37, 38, 39, 40, 41, 42, 43, 44, 45, 46, 47, 48, 49, 50,\n",
       "       51, 52, 53, 54, 55, 56, 57, 58, 59, 60, 61, 62, 63, 64, 65, 66, 67,\n",
       "       68, 69, 70, 71, 72, 73, 74, 75, 76, 77, 78, 79, 80, 81, 82, 83, 84,\n",
       "       85, 86, 87, 88, 89, 90, 91, 92, 93, 94, 95, 96, 97, 98, 99])"
      ]
     },
     "execution_count": 68,
     "metadata": {},
     "output_type": "execute_result"
    }
   ],
   "source": [
    "c = np.arange(100)\n",
    "c"
   ]
  },
  {
   "cell_type": "markdown",
   "id": "b0b05e7c-7eb0-486d-8b17-2a1f48b392a6",
   "metadata": {},
   "source": [
    "## Create a 5x5 matrix with values 1,2,3,4 just below the diagonal"
   ]
  },
  {
   "attachments": {
    "image.png": {
     "image/png": "[encoded data removed]"
    }
   },
   "cell_type": "markdown",
   "id": "f9f12720",
   "metadata": {},
   "source": [
    "![image.png](attachment:image.png)"
   ]
  },
  {
   "cell_type": "code",
   "execution_count": 76,
   "id": "ca96b02a",
   "metadata": {},
   "outputs": [
    {
     "data": {
      "text/plain": [
       "array([[0, 0, 0, 0, 0],\n",
       "       [1, 0, 0, 0, 0],\n",
       "       [0, 2, 0, 0, 0],\n",
       "       [0, 0, 3, 0, 0],\n",
       "       [0, 0, 0, 4, 0]])"
      ]
     },
     "execution_count": 76,
     "metadata": {},
     "output_type": "execute_result"
    }
   ],
   "source": [
    "arr8 = np.diag([1,2,3,4],k=-1)\n",
    "arr8"
   ]
  },
  {
   "cell_type": "code",
   "execution_count": 70,
   "id": "15281c7d",
   "metadata": {
    "scrolled": true
   },
   "outputs": [
    {
     "data": {
      "text/plain": [
       "array([[0., 0., 0., 0., 0.],\n",
       "       [0., 0., 0., 0., 0.],\n",
       "       [0., 0., 0., 0., 0.],\n",
       "       [0., 0., 0., 0., 0.],\n",
       "       [0., 0., 0., 0., 0.]])"
      ]
     },
     "execution_count": 70,
     "metadata": {},
     "output_type": "execute_result"
    }
   ],
   "source": [
    "arr8 = np.zeros((5,5))\n",
    "arr8"
   ]
  },
  {
   "cell_type": "code",
   "execution_count": null,
   "id": "d5a6aa7b",
   "metadata": {},
   "outputs": [],
   "source": []
  },
  {
   "cell_type": "code",
   "execution_count": 78,
   "id": "c81c6cdb",
   "metadata": {},
   "outputs": [
    {
     "data": {
      "text/plain": [
       "array([[0, 0, 0, 0, 0, 0],\n",
       "       [0, 0, 0, 0, 0, 0],\n",
       "       [1, 0, 0, 0, 0, 0],\n",
       "       [0, 2, 0, 0, 0, 0],\n",
       "       [0, 0, 3, 0, 0, 0],\n",
       "       [0, 0, 0, 4, 0, 0]])"
      ]
     },
     "execution_count": 78,
     "metadata": {},
     "output_type": "execute_result"
    }
   ],
   "source": [
    "arr9 = np.diag(range(1,5),k=-2)\n",
    "arr9"
   ]
  },
  {
   "cell_type": "markdown",
   "id": "f22a8d4f-4061-46dc-96c5-f963eba56d40",
   "metadata": {},
   "source": [
    "## Create a 8x8 matrix and fill it with a checkerboard pattern"
   ]
  },
  {
   "attachments": {
    "image.png": {
     "image/png": "[encoded data removed]"
    }
   },
   "cell_type": "markdown",
   "id": "8a715d83",
   "metadata": {},
   "source": [
    "![image.png](attachment:image.png)"
   ]
  },
  {
   "cell_type": "code",
   "execution_count": null,
   "id": "2bbaeb4c",
   "metadata": {},
   "outputs": [],
   "source": []
  },
  {
   "cell_type": "code",
   "execution_count": 138,
   "id": "160416ac",
   "metadata": {},
   "outputs": [
    {
     "data": {
      "text/plain": [
       "array([[1, 1, 1, 1, 1, 1, 1, 1],\n",
       "       [1, 1, 1, 1, 1, 1, 1, 1],\n",
       "       [1, 1, 1, 1, 1, 1, 1, 1],\n",
       "       [1, 1, 1, 1, 1, 1, 1, 1],\n",
       "       [1, 1, 1, 1, 1, 1, 1, 1],\n",
       "       [1, 1, 1, 1, 1, 1, 1, 1],\n",
       "       [1, 1, 1, 1, 1, 1, 1, 1],\n",
       "       [1, 1, 1, 1, 1, 1, 1, 1]])"
      ]
     },
     "execution_count": 138,
     "metadata": {},
     "output_type": "execute_result"
    }
   ],
   "source": [
    "arr_zero = np.ones((8,8), dtype=int)\n",
    "arr_zero\n"
   ]
  },
  {
   "cell_type": "code",
   "execution_count": 140,
   "id": "deb81cde",
   "metadata": {
    "scrolled": true
   },
   "outputs": [
    {
     "data": {
      "text/plain": [
       "array([[0, 1, 0, 1, 0, 1, 0, 1],\n",
       "       [1, 0, 1, 0, 1, 0, 1, 0],\n",
       "       [0, 1, 0, 1, 0, 1, 0, 1],\n",
       "       [1, 0, 1, 0, 1, 0, 1, 0],\n",
       "       [0, 1, 0, 1, 0, 1, 0, 1],\n",
       "       [1, 0, 1, 0, 1, 0, 1, 0],\n",
       "       [0, 1, 0, 1, 0, 1, 0, 1],\n",
       "       [1, 0, 1, 0, 1, 0, 1, 0]])"
      ]
     },
     "execution_count": 140,
     "metadata": {},
     "output_type": "execute_result"
    }
   ],
   "source": [
    "arr_zero[::2, ::2] =0\n",
    "arr_zero[1::2, 1::2] = 0\n",
    "arr_zero"
   ]
  },
  {
   "cell_type": "code",
   "execution_count": 137,
   "id": "1af82333",
   "metadata": {},
   "outputs": [],
   "source": []
  },
  {
   "cell_type": "markdown",
   "id": "b2c92c26-fa3b-4022-9c71-88a27064ba1b",
   "metadata": {},
   "source": [
    "\n",
    "## Create a checkerboard 8x8 matrix using the tile function"
   ]
  },
  {
   "cell_type": "code",
   "execution_count": null,
   "id": "ebc75728",
   "metadata": {},
   "outputs": [],
   "source": []
  },
  {
   "cell_type": "code",
   "execution_count": 142,
   "id": "4efb7312",
   "metadata": {},
   "outputs": [
    {
     "data": {
      "text/plain": [
       "array([[0, 1],\n",
       "       [1, 0]])"
      ]
     },
     "execution_count": 142,
     "metadata": {},
     "output_type": "execute_result"
    }
   ],
   "source": [
    "arr_tile = np.array([[0,1],[1,0]])\n",
    "arr_tile\n",
    "\n"
   ]
  },
  {
   "cell_type": "code",
   "execution_count": 148,
   "id": "ab6648cf",
   "metadata": {},
   "outputs": [
    {
     "data": {
      "text/plain": [
       "array([[0, 1, 0, 1, 0, 1, 0, 1],\n",
       "       [1, 0, 1, 0, 1, 0, 1, 0],\n",
       "       [0, 1, 0, 1, 0, 1, 0, 1],\n",
       "       [1, 0, 1, 0, 1, 0, 1, 0],\n",
       "       [0, 1, 0, 1, 0, 1, 0, 1],\n",
       "       [1, 0, 1, 0, 1, 0, 1, 0],\n",
       "       [0, 1, 0, 1, 0, 1, 0, 1],\n",
       "       [1, 0, 1, 0, 1, 0, 1, 0]])"
      ]
     },
     "execution_count": 148,
     "metadata": {},
     "output_type": "execute_result"
    }
   ],
   "source": [
    "result = np.tile((arr_tile),(4,4))\n",
    "result"
   ]
  },
  {
   "cell_type": "markdown",
   "id": "7d1e507f-a32d-4ed4-9235-8c1c77b45e90",
   "metadata": {},
   "source": [
    "## Consider a (6,7,8) shape array, what is the index (x,y,z) of the 100th element?"
   ]
  },
  {
   "cell_type": "code",
   "execution_count": 95,
   "id": "d12a2986",
   "metadata": {},
   "outputs": [
    {
     "data": {
      "text/plain": [
       "(1, 5, 4)"
      ]
     },
     "execution_count": 95,
     "metadata": {},
     "output_type": "execute_result"
    }
   ],
   "source": [
    "np.unravel_index(100,(6,7,8))"
   ]
  },
  {
   "cell_type": "markdown",
   "id": "dcdb4e96",
   "metadata": {},
   "source": [
    "## How can I create an array with dimensions (6, 7, 8) using arange, and find its last element?"
   ]
  },
  {
   "cell_type": "code",
   "execution_count": 154,
   "id": "844deeaf",
   "metadata": {},
   "outputs": [
    {
     "data": {
      "text/plain": [
       "array([[[  1,   2,   3,   4,   5,   6,   7,   8],\n",
       "        [  9,  10,  11,  12,  13,  14,  15,  16],\n",
       "        [ 17,  18,  19,  20,  21,  22,  23,  24],\n",
       "        [ 25,  26,  27,  28,  29,  30,  31,  32],\n",
       "        [ 33,  34,  35,  36,  37,  38,  39,  40],\n",
       "        [ 41,  42,  43,  44,  45,  46,  47,  48],\n",
       "        [ 49,  50,  51,  52,  53,  54,  55,  56]],\n",
       "\n",
       "       [[ 57,  58,  59,  60,  61,  62,  63,  64],\n",
       "        [ 65,  66,  67,  68,  69,  70,  71,  72],\n",
       "        [ 73,  74,  75,  76,  77,  78,  79,  80],\n",
       "        [ 81,  82,  83,  84,  85,  86,  87,  88],\n",
       "        [ 89,  90,  91,  92,  93,  94,  95,  96],\n",
       "        [ 97,  98,  99, 100, 101, 102, 103, 104],\n",
       "        [105, 106, 107, 108, 109, 110, 111, 112]],\n",
       "\n",
       "       [[113, 114, 115, 116, 117, 118, 119, 120],\n",
       "        [121, 122, 123, 124, 125, 126, 127, 128],\n",
       "        [129, 130, 131, 132, 133, 134, 135, 136],\n",
       "        [137, 138, 139, 140, 141, 142, 143, 144],\n",
       "        [145, 146, 147, 148, 149, 150, 151, 152],\n",
       "        [153, 154, 155, 156, 157, 158, 159, 160],\n",
       "        [161, 162, 163, 164, 165, 166, 167, 168]],\n",
       "\n",
       "       [[169, 170, 171, 172, 173, 174, 175, 176],\n",
       "        [177, 178, 179, 180, 181, 182, 183, 184],\n",
       "        [185, 186, 187, 188, 189, 190, 191, 192],\n",
       "        [193, 194, 195, 196, 197, 198, 199, 200],\n",
       "        [201, 202, 203, 204, 205, 206, 207, 208],\n",
       "        [209, 210, 211, 212, 213, 214, 215, 216],\n",
       "        [217, 218, 219, 220, 221, 222, 223, 224]],\n",
       "\n",
       "       [[225, 226, 227, 228, 229, 230, 231, 232],\n",
       "        [233, 234, 235, 236, 237, 238, 239, 240],\n",
       "        [241, 242, 243, 244, 245, 246, 247, 248],\n",
       "        [249, 250, 251, 252, 253, 254, 255, 256],\n",
       "        [257, 258, 259, 260, 261, 262, 263, 264],\n",
       "        [265, 266, 267, 268, 269, 270, 271, 272],\n",
       "        [273, 274, 275, 276, 277, 278, 279, 280]],\n",
       "\n",
       "       [[281, 282, 283, 284, 285, 286, 287, 288],\n",
       "        [289, 290, 291, 292, 293, 294, 295, 296],\n",
       "        [297, 298, 299, 300, 301, 302, 303, 304],\n",
       "        [305, 306, 307, 308, 309, 310, 311, 312],\n",
       "        [313, 314, 315, 316, 317, 318, 319, 320],\n",
       "        [321, 322, 323, 324, 325, 326, 327, 328],\n",
       "        [329, 330, 331, 332, 333, 334, 335, 336]]])"
      ]
     },
     "execution_count": 154,
     "metadata": {},
     "output_type": "execute_result"
    }
   ],
   "source": [
    "arr11 = np.arange(1,6 * 7  *8+1).reshape(6,7,8)\n",
    "arr11"
   ]
  },
  {
   "cell_type": "code",
   "execution_count": 158,
   "id": "21d7e272",
   "metadata": {},
   "outputs": [
    {
     "data": {
      "text/plain": [
       "336"
      ]
     },
     "execution_count": 158,
     "metadata": {},
     "output_type": "execute_result"
    }
   ],
   "source": [
    "arr11[-1][-1][-1]"
   ]
  },
  {
   "cell_type": "markdown",
   "id": "b1854b8f-fa9e-492e-9d76-8ee86416e163",
   "metadata": {},
   "source": [
    "## Given a one-dimensional array, make all elements between 3 and 8 inclusive negative."
   ]
  },
  {
   "cell_type": "code",
   "execution_count": 187,
   "id": "8dca3314",
   "metadata": {},
   "outputs": [
    {
     "data": {
      "text/plain": [
       "array([False, False,  True, False, False, False, False, False, False,\n",
       "        True])"
      ]
     },
     "execution_count": 187,
     "metadata": {},
     "output_type": "execute_result"
    }
   ],
   "source": [
    "#absulote numbers\n",
    "arr12 = np.random.randint(-10,10,10)\n",
    "bool_arr12= (abs(3)<= arr12) & (arr12<=abs(8))\n",
    "bool_arr12"
   ]
  },
  {
   "cell_type": "code",
   "execution_count": 188,
   "id": "af20a2c0",
   "metadata": {},
   "outputs": [
    {
     "data": {
      "text/plain": [
       "array([ -2,   0,   7,  -8,  -6,   9,  -7,  -5, -10,   6])"
      ]
     },
     "execution_count": 188,
     "metadata": {},
     "output_type": "execute_result"
    }
   ],
   "source": [
    "arr12"
   ]
  },
  {
   "cell_type": "code",
   "execution_count": 189,
   "id": "c5c8150a",
   "metadata": {},
   "outputs": [
    {
     "data": {
      "text/plain": [
       "array([7, 6])"
      ]
     },
     "execution_count": 189,
     "metadata": {},
     "output_type": "execute_result"
    }
   ],
   "source": [
    "arr12[bool_arr12] "
   ]
  },
  {
   "cell_type": "markdown",
   "id": "afc74cce-1589-434f-929e-d4f809eac34d",
   "metadata": {},
   "source": [
    "## Create a 5x5 matrix with row values ranging from 0 to 4"
   ]
  },
  {
   "cell_type": "code",
   "execution_count": 265,
   "id": "522397f4",
   "metadata": {},
   "outputs": [
    {
     "data": {
      "text/plain": [
       "array([[0, 1, 2, 3, 4],\n",
       "       [0, 1, 2, 3, 4],\n",
       "       [0, 1, 2, 3, 4],\n",
       "       [0, 1, 2, 3, 4],\n",
       "       [0, 1, 2, 3, 4]])"
      ]
     },
     "execution_count": 265,
     "metadata": {},
     "output_type": "execute_result"
    }
   ],
   "source": [
    "row = np.arange(5)\n",
    "np.tile(row,(5,1))\n",
    "\n"
   ]
  },
  {
   "cell_type": "code",
   "execution_count": 267,
   "id": "02cd9690",
   "metadata": {},
   "outputs": [
    {
     "data": {
      "text/plain": [
       "array([0, 1, 2, 3, 4, 5, 6, 7, 8, 9])"
      ]
     },
     "execution_count": 267,
     "metadata": {},
     "output_type": "execute_result"
    }
   ],
   "source": [
    "#10x10 matrix\n",
    "row2 = np.arange(10)\n",
    "row2"
   ]
  },
  {
   "cell_type": "code",
   "execution_count": 270,
   "id": "552116af",
   "metadata": {},
   "outputs": [
    {
     "data": {
      "text/plain": [
       "array([[0, 1, 2, 3, 4, 5, 6, 7, 8, 9],\n",
       "       [0, 1, 2, 3, 4, 5, 6, 7, 8, 9],\n",
       "       [0, 1, 2, 3, 4, 5, 6, 7, 8, 9],\n",
       "       [0, 1, 2, 3, 4, 5, 6, 7, 8, 9],\n",
       "       [0, 1, 2, 3, 4, 5, 6, 7, 8, 9],\n",
       "       [0, 1, 2, 3, 4, 5, 6, 7, 8, 9],\n",
       "       [0, 1, 2, 3, 4, 5, 6, 7, 8, 9],\n",
       "       [0, 1, 2, 3, 4, 5, 6, 7, 8, 9],\n",
       "       [0, 1, 2, 3, 4, 5, 6, 7, 8, 9],\n",
       "       [0, 1, 2, 3, 4, 5, 6, 7, 8, 9]])"
      ]
     },
     "execution_count": 270,
     "metadata": {},
     "output_type": "execute_result"
    }
   ],
   "source": [
    "arr_tile2 =np.tile(row2,(10,1))\n",
    "arr_tile2"
   ]
  },
  {
   "cell_type": "code",
   "execution_count": 276,
   "id": "61c537fa",
   "metadata": {},
   "outputs": [],
   "source": [
    "#making a inside square with 100\n",
    "arr_tile2[1:-1,1:-1] = 100"
   ]
  },
  {
   "cell_type": "code",
   "execution_count": 277,
   "id": "e33e2dbb",
   "metadata": {},
   "outputs": [
    {
     "data": {
      "text/plain": [
       "array([[  0,   1,   2,   3,   4,   5,   6,   7,   8,   9],\n",
       "       [  0, 100, 100, 100, 100, 100, 100, 100, 100,   9],\n",
       "       [  0, 100, 100, 100, 100, 100, 100, 100, 100,   9],\n",
       "       [  0, 100, 100, 100, 100, 100, 100, 100, 100,   9],\n",
       "       [  0, 100, 100, 100, 100, 100, 100, 100, 100,   9],\n",
       "       [  0, 100, 100, 100, 100, 100, 100, 100, 100,   9],\n",
       "       [  0, 100, 100, 100, 100, 100, 100, 100, 100,   9],\n",
       "       [  0, 100, 100, 100, 100, 100, 100, 100, 100,   9],\n",
       "       [  0, 100, 100, 100, 100, 100, 100, 100, 100,   9],\n",
       "       [  0,   1,   2,   3,   4,   5,   6,   7,   8,   9]])"
      ]
     },
     "execution_count": 277,
     "metadata": {},
     "output_type": "execute_result"
    }
   ],
   "source": [
    "arr_tile2"
   ]
  },
  {
   "cell_type": "markdown",
   "id": "cbea287c-b2ef-4c94-b4bc-e047ee69abd1",
   "metadata": {},
   "source": [
    "## Create a vector of size 12 with values ranging from 0 to 1, both excluded"
   ]
  },
  {
   "cell_type": "code",
   "execution_count": 204,
   "id": "b6caf3c4",
   "metadata": {},
   "outputs": [
    {
     "data": {
      "text/plain": [
       "array([0.07692308, 0.15384615, 0.23076923, 0.30769231, 0.38461538,\n",
       "       0.46153846, 0.53846154, 0.61538462, 0.69230769, 0.76923077,\n",
       "       0.84615385, 0.92307692])"
      ]
     },
     "execution_count": 204,
     "metadata": {},
     "output_type": "execute_result"
    }
   ],
   "source": [
    "arr14 = np.linspace(0,1,14)\n",
    "arr14[1:-1]"
   ]
  },
  {
   "cell_type": "markdown",
   "id": "1dc7d714-45a5-4bc7-a52e-37abe31bfb1f",
   "metadata": {},
   "source": [
    "## Create a random vector of size 10 and sort it"
   ]
  },
  {
   "cell_type": "code",
   "execution_count": 213,
   "id": "c0a59fbf",
   "metadata": {},
   "outputs": [
    {
     "name": "stdout",
     "output_type": "stream",
     "text": [
      "[0.0119161  0.03474329 0.29526284 0.39120596 0.43665544 0.66054299\n",
      " 0.71116781 0.75154832 0.79265599 0.86063959]\n"
     ]
    }
   ],
   "source": [
    "vector = np.random.rand(10)\n",
    "vector = np.sort(vector)\n",
    "print(vector)\n"
   ]
  },
  {
   "cell_type": "code",
   "execution_count": 214,
   "id": "0f09890c",
   "metadata": {},
   "outputs": [
    {
     "name": "stdout",
     "output_type": "stream",
     "text": [
      "[0.86063959 0.79265599 0.75154832 0.71116781 0.66054299 0.43665544\n",
      " 0.39120596 0.29526284 0.03474329 0.0119161 ]\n"
     ]
    }
   ],
   "source": [
    "#reverse sorting\n",
    "print(vector[::-1])"
   ]
  },
  {
   "cell_type": "markdown",
   "id": "0d58bab8-cab1-4318-9405-6e54a17ac346",
   "metadata": {},
   "source": [
    "## Consider two random array A anb B, check if they are equal"
   ]
  },
  {
   "cell_type": "code",
   "execution_count": 225,
   "id": "07d21f6d",
   "metadata": {},
   "outputs": [
    {
     "name": "stdout",
     "output_type": "stream",
     "text": [
      "[3 4]\n",
      "[3 4]\n",
      "A = B\n"
     ]
    }
   ],
   "source": [
    "A = np.random.randint(1,6,2)\n",
    "B = np.random.randint(1,6,2)\n",
    "print(A)\n",
    "print(B)\n",
    "\n",
    "if np.array_equal(A,B):\n",
    "    print(\"A = B\")\n",
    "else:\n",
    "    print(\"Not equal\")"
   ]
  },
  {
   "cell_type": "code",
   "execution_count": null,
   "id": "c88616d9",
   "metadata": {
    "scrolled": true
   },
   "outputs": [],
   "source": []
  },
  {
   "cell_type": "markdown",
   "id": "add060d3-6cca-47eb-8a48-2b9f33227130",
   "metadata": {},
   "source": [
    "## Create random vector of size 10 and replace the maximum value by 0"
   ]
  },
  {
   "cell_type": "code",
   "execution_count": 228,
   "id": "6edc3993",
   "metadata": {},
   "outputs": [
    {
     "name": "stdout",
     "output_type": "stream",
     "text": [
      "[45 99 28 34 70 60 19 79 78 68]\n"
     ]
    }
   ],
   "source": [
    "vector2 = np.random.randint(1,100,10)\n",
    "print(vector2)"
   ]
  },
  {
   "cell_type": "code",
   "execution_count": 231,
   "id": "1abd6f43",
   "metadata": {},
   "outputs": [
    {
     "data": {
      "text/plain": [
       "99"
      ]
     },
     "execution_count": 231,
     "metadata": {},
     "output_type": "execute_result"
    }
   ],
   "source": [
    "np.max(vector2)"
   ]
  },
  {
   "cell_type": "code",
   "execution_count": 232,
   "id": "0832c475",
   "metadata": {},
   "outputs": [
    {
     "data": {
      "text/plain": [
       "1"
      ]
     },
     "execution_count": 232,
     "metadata": {},
     "output_type": "execute_result"
    }
   ],
   "source": [
    "vector2.argmax() # index of max number"
   ]
  },
  {
   "cell_type": "code",
   "execution_count": 233,
   "id": "3b263941",
   "metadata": {},
   "outputs": [],
   "source": [
    "vector2[1]=0"
   ]
  },
  {
   "cell_type": "code",
   "execution_count": 234,
   "id": "859e17df",
   "metadata": {},
   "outputs": [
    {
     "data": {
      "text/plain": [
       "array([45,  0, 28, 34, 70, 60, 19, 79, 78, 68])"
      ]
     },
     "execution_count": 234,
     "metadata": {},
     "output_type": "execute_result"
    }
   ],
   "source": [
    "vector2"
   ]
  },
  {
   "cell_type": "markdown",
   "id": "874129d8-fe2e-41c7-aaa5-6e7578a8d6ad",
   "metadata": {},
   "source": [
    "## How to swap two rows of an array?"
   ]
  },
  {
   "cell_type": "code",
   "execution_count": 235,
   "id": "7ecab924",
   "metadata": {},
   "outputs": [
    {
     "data": {
      "text/plain": [
       "array([[1, 2, 3],\n",
       "       [4, 5, 6],\n",
       "       [7, 8, 9]])"
      ]
     },
     "execution_count": 235,
     "metadata": {},
     "output_type": "execute_result"
    }
   ],
   "source": [
    "arr16 = np.arange(1,10).reshape(3,3)\n",
    "arr16"
   ]
  },
  {
   "cell_type": "code",
   "execution_count": 239,
   "id": "b7d1c37d",
   "metadata": {},
   "outputs": [
    {
     "data": {
      "text/plain": [
       "array([4, 5, 6])"
      ]
     },
     "execution_count": 239,
     "metadata": {},
     "output_type": "execute_result"
    }
   ],
   "source": [
    "arr16[1]  "
   ]
  },
  {
   "cell_type": "code",
   "execution_count": 240,
   "id": "af08536b",
   "metadata": {},
   "outputs": [
    {
     "data": {
      "text/plain": [
       "array([7, 8, 9])"
      ]
     },
     "execution_count": 240,
     "metadata": {},
     "output_type": "execute_result"
    }
   ],
   "source": [
    "arr16[2]"
   ]
  },
  {
   "cell_type": "code",
   "execution_count": 244,
   "id": "ab88bdf3",
   "metadata": {
    "scrolled": true
   },
   "outputs": [
    {
     "data": {
      "text/plain": [
       "array([[1, 2, 3],\n",
       "       [7, 8, 9],\n",
       "       [4, 5, 6]])"
      ]
     },
     "execution_count": 244,
     "metadata": {},
     "output_type": "execute_result"
    }
   ],
   "source": [
    "arr16[[1,2]] = arr16[[2,1]]\n",
    "arr16"
   ]
  },
  {
   "cell_type": "code",
   "execution_count": 245,
   "id": "58de88c0",
   "metadata": {},
   "outputs": [
    {
     "data": {
      "text/plain": [
       "array([[1, 2, 3],\n",
       "       [4, 5, 6],\n",
       "       [7, 8, 9]])"
      ]
     },
     "execution_count": 245,
     "metadata": {},
     "output_type": "execute_result"
    }
   ],
   "source": [
    "#columns\n",
    "\n",
    "arr17 = np.arange(1,10).reshape(3,3)\n",
    "arr17"
   ]
  },
  {
   "cell_type": "markdown",
   "id": "3d99138b-91e6-4d19-9195-1f384a68063b",
   "metadata": {},
   "source": [
    "## How to find the most frequent value in an array?"
   ]
  },
  {
   "cell_type": "code",
   "execution_count": 246,
   "id": "19a6efab",
   "metadata": {},
   "outputs": [
    {
     "data": {
      "text/plain": [
       "array([9, 6, 1, 5, 4, 2, 3, 6, 1, 1, 8, 1, 1, 5, 9, 5, 2, 7, 2, 6])"
      ]
     },
     "execution_count": 246,
     "metadata": {},
     "output_type": "execute_result"
    }
   ],
   "source": [
    "# 1st example\n",
    "arr18 = np.random.randint(1,10,size=20)\n",
    "arr18"
   ]
  },
  {
   "cell_type": "code",
   "execution_count": 251,
   "id": "3f30860c",
   "metadata": {},
   "outputs": [
    {
     "data": {
      "text/plain": [
       "array([0, 5, 3, 1, 1, 3, 3, 1, 1, 2], dtype=int64)"
      ]
     },
     "execution_count": 251,
     "metadata": {},
     "output_type": "execute_result"
    }
   ],
   "source": [
    "counts = np.bincount(arr18)\n",
    "counts"
   ]
  },
  {
   "cell_type": "code",
   "execution_count": 252,
   "id": "1cc937fd",
   "metadata": {},
   "outputs": [
    {
     "data": {
      "text/plain": [
       "1"
      ]
     },
     "execution_count": 252,
     "metadata": {},
     "output_type": "execute_result"
    }
   ],
   "source": [
    "np.argmax(counts)"
   ]
  },
  {
   "cell_type": "code",
   "execution_count": 281,
   "id": "2fff3a6e",
   "metadata": {},
   "outputs": [
    {
     "data": {
      "text/plain": [
       "0"
      ]
     },
     "execution_count": 281,
     "metadata": {},
     "output_type": "execute_result"
    }
   ],
   "source": [
    "np.argmin(counts)"
   ]
  },
  {
   "cell_type": "code",
   "execution_count": 286,
   "id": "2c3a9931",
   "metadata": {},
   "outputs": [
    {
     "data": {
      "text/plain": [
       "array([ 4, 18,  6, 18,  5,  1, 19, 17, 17, 14])"
      ]
     },
     "execution_count": 286,
     "metadata": {},
     "output_type": "execute_result"
    }
   ],
   "source": [
    "# 2nd example\n",
    "arr20 = np.random.randint(1,20,10)\n",
    "arr20"
   ]
  },
  {
   "cell_type": "code",
   "execution_count": 287,
   "id": "619fcb84",
   "metadata": {},
   "outputs": [
    {
     "data": {
      "text/plain": [
       "array([0, 1, 0, 0, 1, 1, 1, 0, 0, 0, 0, 0, 0, 0, 1, 0, 0, 2, 2, 1],\n",
       "      dtype=int64)"
      ]
     },
     "execution_count": 287,
     "metadata": {},
     "output_type": "execute_result"
    }
   ],
   "source": [
    "xx = np.bincount(arr20)\n",
    "xx"
   ]
  },
  {
   "cell_type": "code",
   "execution_count": 288,
   "id": "643a6bd0",
   "metadata": {},
   "outputs": [
    {
     "data": {
      "text/plain": [
       "17"
      ]
     },
     "execution_count": 288,
     "metadata": {},
     "output_type": "execute_result"
    }
   ],
   "source": [
    "np.argmax(xx)"
   ]
  },
  {
   "cell_type": "code",
   "execution_count": null,
   "id": "239cf5f3",
   "metadata": {},
   "outputs": [],
   "source": []
  }
 ],
 "metadata": {
  "hide_input": false,
  "kernelspec": {
   "display_name": "Python 3 (ipykernel)",
   "language": "python",
   "name": "python3"
  },
  "language_info": {
   "codemirror_mode": {
    "name": "ipython",
    "version": 3
   },
   "file_extension": ".py",
   "mimetype": "text/x-python",
   "name": "python",
   "nbconvert_exporter": "python",
   "pygments_lexer": "ipython3",
   "version": "3.10.9"
  },
  "nbTranslate": {
   "displayLangs": [
    "*"
   ],
   "hotkey": "alt-t",
   "langInMainMenu": true,
   "sourceLang": "en",
   "targetLang": "fr",
   "useGoogleTranslate": true
  },
  "toc": {
   "base_numbering": 1,
   "nav_menu": {},
   "number_sections": true,
   "sideBar": true,
   "skip_h1_title": false,
   "title_cell": "Table of Contents",
   "title_sidebar": "Contents",
   "toc_cell": false,
   "toc_position": {
    "height": "calc(100% - 180px)",
    "left": "10px",
    "top": "150px",
    "width": "303.542px"
   },
   "toc_section_display": true,
   "toc_window_display": true
  },
  "varInspector": {
   "cols": {
    "lenName": 16,
    "lenType": 16,
    "lenVar": 40
   },
   "kernels_config": {
    "python": {
     "delete_cmd_postfix": "",
     "delete_cmd_prefix": "del ",
     "library": "var_list.py",
     "varRefreshCmd": "print(var_dic_list())"
    },
    "r": {
     "delete_cmd_postfix": ") ",
     "delete_cmd_prefix": "rm(",
     "library": "var_list.r",
     "varRefreshCmd": "cat(var_dic_list()) "
    }
   },
   "types_to_exclude": [
    "module",
    "function",
    "builtin_function_or_method",
    "instance",
    "_Feature"
   ],
   "window_display": false
  }
 },
 "nbformat": 4,
 "nbformat_minor": 5
}
